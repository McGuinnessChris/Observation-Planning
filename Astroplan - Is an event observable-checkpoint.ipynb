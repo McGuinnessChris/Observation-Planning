{
 "cells": [
  {
   "cell_type": "markdown",
   "metadata": {},
   "source": [
    "# The possibility of an observation can be checked using the function is_event_observable()"
   ]
  },
  {
   "cell_type": "code",
   "execution_count": 10,
   "metadata": {},
   "outputs": [
    {
     "name": "stdout",
     "output_type": "stream",
     "text": [
      "Mid-transit time reference: Knutson 2007; period reference: Knutson 2007\n"
     ]
    }
   ],
   "source": [
    "# By defining the observatory being used (or it's coordinates and altitude), target being observed,\n",
    "# observation time constraints and the times at which events intended to be observed occur,\n",
    "# the function will calculate if it is possible for the observation to be made\n",
    "\n",
    "# Query Exoplanet Orbit Database (exoplanets.org) for planet properties\n",
    "from astroquery.exoplanet_orbit_database import ExoplanetOrbitDatabase\n",
    "planet_properties = ExoplanetOrbitDatabase.query_planet('HD 209458 b')\n",
    "\n",
    "# get relevant planet properties\n",
    "from astropy.time import Time\n",
    "epoch = Time(planet_properties['TT'], format='jd')\n",
    "period = planet_properties['PER']\n",
    "transit_duration = planet_properties['T14']\n",
    "print('Mid-transit time reference: {0}; period reference: {1}'\n",
    "      .format(planet_properties['TTREF'], planet_properties['PERREF']))\n",
    "\n",
    "\n",
    "# Create an EclipsingSystem object for HD 209458\n",
    "from astroplan import EclipsingSystem\n",
    "hd209458 = EclipsingSystem(primary_eclipse_time=epoch, orbital_period=period,\n",
    "                           duration=transit_duration)\n",
    "\n",
    "# Calculate next three mid-transit times which occur after ``obs_time``\n",
    "obs_time = Time('2017-01-01 12:00')\n",
    "\n",
    "# Finding next observable transit\n",
    "\n",
    "from astroplan import FixedTarget, Observer, EclipsingSystem\n",
    "apo = Observer.at_site('APO', timezone='US/Mountain')\n",
    "target = FixedTarget.from_name(\"HD 209458\")\n",
    "\n",
    "primary_eclipse_time = Time(2452826.628514, format='jd')\n",
    "orbital_period = 3.52474859 * u.day\n",
    "eclipse_duration = 0.1277 * u.day\n",
    "\n",
    "HD209458 = EclipsingSystem(primary_eclipse_time=primary_eclipse_time,\n",
    "                           orbital_period=orbital_period, duration=eclipse_duration,\n",
    "                           name='HD 209458 b')"
   ]
  },
  {
   "cell_type": "code",
   "execution_count": 11,
   "metadata": {},
   "outputs": [],
   "source": [
    "n_transits = 100  # This is the roughly number of transits per year\n",
    "obs_time = Time('2017-01-01 12:00')\n",
    "midtransit_times = HD209458.next_primary_eclipse_time(obs_time, n_eclipses=n_transits)"
   ]
  },
  {
   "cell_type": "code",
   "execution_count": 12,
   "metadata": {},
   "outputs": [
    {
     "data": {
      "text/plain": [
       "array([[False, False, False, False, False, False, False, False, False,\n",
       "        False, False, False, False, False, False, False, False, False,\n",
       "        False, False, False, False, False, False, False, False, False,\n",
       "        False, False, False, False, False, False, False, False, False,\n",
       "        False, False, False, False, False, False, False, False, False,\n",
       "        False, False, False, False, False, False, False, False, False,\n",
       "        False, False, False, False, False, False, False, False, False,\n",
       "        False, False, False, False, False, False, False, False, False,\n",
       "        False, False, False, False, False, False, False, False, False,\n",
       "        False, False, False, False, False, False, False, False, False,\n",
       "        False, False, False, False, False, False, False, False, False,\n",
       "        False]])"
      ]
     },
     "execution_count": 12,
     "metadata": {},
     "output_type": "execute_result"
    }
   ],
   "source": [
    "from astroplan import (PrimaryEclipseConstraint, is_event_observable ,\n",
    "                       AtNightConstraint, AltitudeConstraint, LocalTimeConstraint)\n",
    "import datetime as dt\n",
    "import astropy.units as u\n",
    "min_local_time = dt.time(19, 0)  # 19:00 local time at APO (7pm)\n",
    "max_local_time = dt.time(0, 0)  # 00:00 local time at APO (midnight)\n",
    "constraints = [AtNightConstraint.twilight_civil(),\n",
    "               AltitudeConstraint(min=30*u.deg),\n",
    "               LocalTimeConstraint(min=min_local_time, max=max_local_time)]\n",
    "\n",
    "is_event_observable(constraints, apo, target, times=midtransit_times)"
   ]
  },
  {
   "cell_type": "code",
   "execution_count": 14,
   "metadata": {},
   "outputs": [
    {
     "data": {
      "text/plain": [
       "array([[False, False, False, False, False, False, False, False, False,\n",
       "        False, False, False, False, False, False, False, False, False,\n",
       "        False, False, False, False, False, False, False, False, False,\n",
       "        False, False, False, False, False, False, False, False, False,\n",
       "        False, False, False, False, False, False, False, False, False,\n",
       "        False, False, False, False, False, False, False, False, False,\n",
       "        False, False, False, False, False, False, False, False, False,\n",
       "        False, False, False, False, False, False, False, False, False,\n",
       "        False, False, False, False, False, False, False, False, False,\n",
       "        False, False, False, False, False, False, False, False, False,\n",
       "        False, False, False, False, False, False, False, False, False,\n",
       "        False]])"
      ]
     },
     "execution_count": 14,
     "metadata": {},
     "output_type": "execute_result"
    }
   ],
   "source": [
    "ing_egr = HD209458.next_primary_ingress_egress_time(obs_time, n_eclipses=n_transits)\n",
    "is_event_observable(constraints, apo, target, times_ingress_egress=ing_egr)"
   ]
  },
  {
   "cell_type": "code",
   "execution_count": null,
   "metadata": {},
   "outputs": [],
   "source": []
  }
 ],
 "metadata": {
  "kernelspec": {
   "display_name": "Python 3",
   "language": "python",
   "name": "python3"
  },
  "language_info": {
   "codemirror_mode": {
    "name": "ipython",
    "version": 3
   },
   "file_extension": ".py",
   "mimetype": "text/x-python",
   "name": "python",
   "nbconvert_exporter": "python",
   "pygments_lexer": "ipython3",
   "version": "3.7.3"
  }
 },
 "nbformat": 4,
 "nbformat_minor": 2
}
