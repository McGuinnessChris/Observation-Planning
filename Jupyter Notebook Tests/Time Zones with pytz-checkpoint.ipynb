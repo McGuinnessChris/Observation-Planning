{
 "cells": [
  {
   "cell_type": "code",
   "execution_count": 1,
   "metadata": {},
   "outputs": [
    {
     "name": "stdout",
     "output_type": "stream",
     "text": [
      "2019-07-12 12:24:43.262437\n"
     ]
    }
   ],
   "source": [
    "import datetime as dt\n",
    "import pytz\n",
    "local_time = dt.datetime.now()\n",
    "print(local_time)"
   ]
  },
  {
   "cell_type": "code",
   "execution_count": 2,
   "metadata": {},
   "outputs": [
    {
     "name": "stdout",
     "output_type": "stream",
     "text": [
      "Europe/Dublin\n",
      "2019-07-12 12:24:43.262437+01:00\n",
      "America/Los_Angeles\n",
      "2019-07-12 04:24:43.262437-07:00\n",
      "Hongkong\n",
      "2019-07-12 19:24:43.262437+08:00\n",
      "US/Hawaii\n",
      "2019-07-12 01:24:43.553963-10:00\n"
     ]
    }
   ],
   "source": [
    "# using Dublin as example location\n",
    "Dublin = pytz.timezone('Europe/Dublin')\n",
    "print(Dublin)\n",
    "\n",
    "# assigning time to time zone\n",
    "Dublin_Time = Dublin.localize(local_time)\n",
    "print(Dublin_Time)\n",
    "\n",
    "# creating target time zone to convert to\n",
    "target_time_zone = pytz.timezone('America/Los_Angeles')\n",
    "print(target_time_zone)\n",
    "\n",
    "target_date_with_timezone = Dublin_Time.astimezone(target_time_zone)\n",
    "print(target_date_with_timezone)\n",
    "\n",
    "# trying a third time zone\n",
    "target_time_zone_2 = pytz.timezone('Hongkong')\n",
    "print(target_time_zone_2)\n",
    "\n",
    "target_date_with_timezone_2 = Dublin_Time.astimezone(target_time_zone_2)\n",
    "print(target_date_with_timezone_2)\n",
    "\n",
    "# trying Hawaii\n",
    "Hawaii = pytz.timezone('US/Hawaii')\n",
    "print(Hawaii)\n",
    "\n",
    "Hawaii_time = dt.datetime.now().astimezone(Hawaii)\n",
    "print(Hawaii_time)"
   ]
  },
  {
   "cell_type": "code",
   "execution_count": 3,
   "metadata": {},
   "outputs": [
    {
     "name": "stdout",
     "output_type": "stream",
     "text": [
      "2019-07-12 12:24:44 \n"
     ]
    }
   ],
   "source": [
    "fmt = '%Y-%m-%d %H:%M:%S %Z%z'\n",
    "here = dt.datetime.now()\n",
    "print(here.strftime(fmt))"
   ]
  },
  {
   "cell_type": "code",
   "execution_count": 4,
   "metadata": {},
   "outputs": [
    {
     "name": "stdout",
     "output_type": "stream",
     "text": [
      "2019-07-12 12:24:44.818055\n"
     ]
    }
   ],
   "source": [
    "from astropy.time import Time\n",
    "print(Time(dt.datetime.now()))"
   ]
  },
  {
   "cell_type": "code",
   "execution_count": 5,
   "metadata": {},
   "outputs": [
    {
     "name": "stdout",
     "output_type": "stream",
     "text": [
      "2019-07-12 01:24:43.553963-10:00\n",
      "2019-07-12 11:24:43.553963\n"
     ]
    }
   ],
   "source": [
    "print(Hawaii_time)\n",
    "print(Time(Hawaii_time))"
   ]
  },
  {
   "cell_type": "code",
   "execution_count": 23,
   "metadata": {},
   "outputs": [
    {
     "name": "stdout",
     "output_type": "stream",
     "text": [
      "2002-10-27 06:00:00\n",
      "2002-10-27 06:00:00\n"
     ]
    }
   ],
   "source": [
    "UTC = pytz.timezone('UTC')\n",
    "time1 = Time(dt.datetime(2002, 10, 27, 6, 0, 0).astimezone(UTC))\n",
    "print(time1)\n",
    "time2 = dt.datetime.strptime(time1.iso , '%Y-%m-%d %H:%M:%S.%f')\n",
    "print(time2)"
   ]
  },
  {
   "cell_type": "code",
   "execution_count": null,
   "metadata": {},
   "outputs": [],
   "source": []
  }
 ],
 "metadata": {
  "kernelspec": {
   "display_name": "Python 3",
   "language": "python",
   "name": "python3"
  },
  "language_info": {
   "codemirror_mode": {
    "name": "ipython",
    "version": 3
   },
   "file_extension": ".py",
   "mimetype": "text/x-python",
   "name": "python",
   "nbconvert_exporter": "python",
   "pygments_lexer": "ipython3",
   "version": "3.7.3"
  }
 },
 "nbformat": 4,
 "nbformat_minor": 2
}
