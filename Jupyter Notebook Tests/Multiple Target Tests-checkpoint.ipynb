{
 "cells": [
  {
   "cell_type": "code",
   "execution_count": 27,
   "metadata": {},
   "outputs": [],
   "source": [
    "from astroplan import Observer, FixedTarget\n",
    "from astropy.time import Time\n",
    "from astropy import coordinates\n",
    "subaru = Observer.at_site(\"Subaru\")\n",
    "time_range = Time([\"2019-06-14 06:00\", \"2019-06-14 12:00\"])\n",
    "\n",
    "\n",
    "from astropy.io import ascii\n",
    "target_table = ascii.read('Tutorial4Targets.txt')\n",
    "\n",
    "\n",
    "from astropy.coordinates import SkyCoord\n",
    "import astropy.units as u\n",
    "targets = [FixedTarget(coord = SkyCoord(ra=ra*u.deg , dec=dec*u.deg) , name=name) \n",
    "           for name , ra , dec in target_table]"
   ]
  },
  {
   "cell_type": "code",
   "execution_count": 10,
   "metadata": {},
   "outputs": [
    {
     "name": "stdout",
     "output_type": "stream",
     "text": [
      "  name   ra_degrees dec_degrees\n",
      "------- ----------- -----------\n",
      "Polaris 37.95456067 89.26410897\n"
     ]
    }
   ],
   "source": [
    "import numpy as np\n",
    "print(target_table[0])"
   ]
  },
  {
   "cell_type": "code",
   "execution_count": 11,
   "metadata": {},
   "outputs": [
    {
     "name": "stdout",
     "output_type": "stream",
     "text": [
      "<FixedTarget \"Polaris\" at SkyCoord (ICRS): (ra, dec) in deg (37.95456067, 89.26410897)>\n"
     ]
    }
   ],
   "source": [
    "print(targets[0])"
   ]
  },
  {
   "cell_type": "code",
   "execution_count": 4,
   "metadata": {},
   "outputs": [
    {
     "name": "stdout",
     "output_type": "stream",
     "text": [
      "Vega\n",
      "6\n"
     ]
    }
   ],
   "source": [
    "target_table = ascii.read('TestText.txt')\n",
    "print(list(target_table[1])[0])\n",
    "print(np.size(target_table))"
   ]
  },
  {
   "cell_type": "code",
   "execution_count": 19,
   "metadata": {},
   "outputs": [
    {
     "name": "stdout",
     "output_type": "stream",
     "text": [
      "list with coords\n",
      "[<FixedTarget \"Polaris\" at SkyCoord (ICRS): (ra, dec) in deg (37.95456067, 89.26410897)>, <FixedTarget \"Vega\" at SkyCoord (ICRS): (ra, dec) in deg (279.23473479, 38.78368896)>, <FixedTarget \"Albireo\" at SkyCoord (ICRS): (ra, dec) in deg (292.68033548, 27.95968007)>, <FixedTarget \"Algol\" at SkyCoord (ICRS): (ra, dec) in deg (47.04221855, 40.95564667)>, <FixedTarget \"Rigel\" at SkyCoord (ICRS): (ra, dec) in deg (78.63446707, -8.20163837)>, <FixedTarget \"Regulus\" at SkyCoord (ICRS): (ra, dec) in deg (152.09296244, 11.96720878)>]\n"
     ]
    }
   ],
   "source": [
    "try:\n",
    "    targets = [FixedTarget(coord = SkyCoord(ra=ra*u.deg , dec=dec*u.deg) , name=name) \n",
    "               for name , ra , dec in target_table]\n",
    "    print(\"list with coords\")\n",
    "except:\n",
    "    targets = [FixedTarget.from_name(list(target_table[i])[0]) for i in range(np.size(target_table))]\n",
    "    print(\"list with just names\")\n",
    "print(targets)"
   ]
  },
  {
   "cell_type": "code",
   "execution_count": 36,
   "metadata": {},
   "outputs": [
    {
     "name": "stdout",
     "output_type": "stream",
     "text": [
      "<FixedTarget \"Vega\" at SkyCoord (ICRS): (ra, dec) in deg (279.23473479, 38.78368896)>\n"
     ]
    }
   ],
   "source": [
    "print(targets[1])#.ra /u.deg *u.deg)"
   ]
  },
  {
   "cell_type": "code",
   "execution_count": 43,
   "metadata": {},
   "outputs": [
    {
     "name": "stdout",
     "output_type": "stream",
     "text": [
      "2019-06-28 14:58:12.755124\n",
      "10.528424558974024\n"
     ]
    }
   ],
   "source": [
    "import datetime as dt\n",
    "from astropy.coordinates import EarthLocation\n",
    "\n",
    "Dublin = EarthLocation.from_geodetic(-6*u.deg , 53*u.deg , 6*u.m)\n",
    "time = dt.datetime.now()\n",
    "print(time)\n",
    "moon = coordinates.get_moon(Time(time) , Dublin)\n",
    "print(moon.dec /u.deg)# *u.deg)"
   ]
  },
  {
   "cell_type": "code",
   "execution_count": 79,
   "metadata": {},
   "outputs": [
    {
     "name": "stdout",
     "output_type": "stream",
     "text": [
      "107.235\n",
      "107.235\n"
     ]
    }
   ],
   "source": [
    "moon_coord = SkyCoord(moon.ra , moon.dec , unit = \"deg\")\n",
    "target_coord = SkyCoord(targets[1].ra , targets[1].dec , unit = \"deg\")\n",
    "\n",
    "sep1 = (target_coord.separation(moon_coord))\n",
    "sep2 = moon_coord.separation(target_coord)\n",
    "print(\"%.3f\" %sep1.deg)\n",
    "print(\"%.3f\" %sep2.deg)"
   ]
  },
  {
   "cell_type": "code",
   "execution_count": 80,
   "metadata": {},
   "outputs": [
    {
     "name": "stdout",
     "output_type": "stream",
     "text": [
      "<SkyCoord (ICRS): (ra, dec) in deg\n",
      "    [(1., -30.), (2.,  45.), (3.,   8.)]>\n"
     ]
    }
   ],
   "source": [
    "c = SkyCoord([1, 2, 3], [-30, 45, 8], frame=\"icrs\", unit=\"deg\")\n",
    "print(c)"
   ]
  },
  {
   "cell_type": "code",
   "execution_count": 82,
   "metadata": {},
   "outputs": [
    {
     "name": "stdout",
     "output_type": "stream",
     "text": [
      "[56.31025318 48.35365802 38.20024205]\n"
     ]
    }
   ],
   "source": [
    "sep3 = c.separation(moon_coord)\n",
    "print(sep3.deg)"
   ]
  },
  {
   "cell_type": "code",
   "execution_count": null,
   "metadata": {},
   "outputs": [],
   "source": []
  }
 ],
 "metadata": {
  "kernelspec": {
   "display_name": "Python 3",
   "language": "python",
   "name": "python3"
  },
  "language_info": {
   "codemirror_mode": {
    "name": "ipython",
    "version": 3
   },
   "file_extension": ".py",
   "mimetype": "text/x-python",
   "name": "python",
   "nbconvert_exporter": "python",
   "pygments_lexer": "ipython3",
   "version": "3.7.3"
  }
 },
 "nbformat": 4,
 "nbformat_minor": 2
}
