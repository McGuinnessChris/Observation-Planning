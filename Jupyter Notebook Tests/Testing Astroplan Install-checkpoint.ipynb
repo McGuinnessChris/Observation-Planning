{
 "cells": [
  {
   "cell_type": "code",
   "execution_count": 1,
   "metadata": {},
   "outputs": [
    {
     "name": "stderr",
     "output_type": "stream",
     "text": [
      "WARNING: AstropyDeprecationWarning: astropy.extern.six will be removed in 4.0, use the six module directly if it is still needed [astropy.extern.six]\n",
      "ImportError while loading conftest '/home/heap/.local/lib/python3.7/site-packages/astroplan/conftest.py'.\n",
      "../.local/lib/python3.7/site-packages/astroplan/conftest.py:12: in <module>\n",
      "    from astropy.tests.pytest_plugins import *\n",
      "E   ModuleNotFoundError: No module named 'astropy.tests.pytest_plugins'\n"
     ]
    },
    {
     "data": {
      "text/plain": [
       "4"
      ]
     },
     "execution_count": 1,
     "metadata": {},
     "output_type": "execute_result"
    }
   ],
   "source": [
    "import astroplan\n",
    "astroplan.test()"
   ]
  },
  {
   "cell_type": "code",
   "execution_count": 2,
   "metadata": {},
   "outputs": [
    {
     "name": "stderr",
     "output_type": "stream",
     "text": [
      "ImportError while loading conftest '/home/heap/.local/lib/python3.7/site-packages/astroplan/conftest.py'.\n",
      "../.local/lib/python3.7/site-packages/astroplan/conftest.py:12: in <module>\n",
      "    from astropy.tests.pytest_plugins import *\n",
      "E   ModuleNotFoundError: No module named 'astropy.tests.pytest_plugins'\n"
     ]
    },
    {
     "data": {
      "text/plain": [
       "4"
      ]
     },
     "execution_count": 2,
     "metadata": {},
     "output_type": "execute_result"
    }
   ],
   "source": [
    "astroplan.test(remote_data=True)"
   ]
  },
  {
   "cell_type": "code",
   "execution_count": null,
   "metadata": {},
   "outputs": [],
   "source": []
  }
 ],
 "metadata": {
  "kernelspec": {
   "display_name": "Python 3",
   "language": "python",
   "name": "python3"
  },
  "language_info": {
   "codemirror_mode": {
    "name": "ipython",
    "version": 3
   },
   "file_extension": ".py",
   "mimetype": "text/x-python",
   "name": "python",
   "nbconvert_exporter": "python",
   "pygments_lexer": "ipython3",
   "version": "3.7.3"
  }
 },
 "nbformat": 4,
 "nbformat_minor": 2
}
