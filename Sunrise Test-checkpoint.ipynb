{
 "cells": [
  {
   "cell_type": "code",
   "execution_count": 1,
   "metadata": {},
   "outputs": [
    {
     "name": "stderr",
     "output_type": "stream",
     "text": [
      "WARNING: AstropyDeprecationWarning: astropy.extern.six will be removed in 4.0, use the six module directly if it is still needed [astropy.extern.six]\n"
     ]
    }
   ],
   "source": [
    "import numpy as np\n",
    "import matplotlib.pyplot as plt\n",
    "import datetime as dt\n",
    "import pytz\n",
    "from tzlocal import get_localzone\n",
    "\n",
    "import astroplan\n",
    "from astroplan import FixedTarget\n",
    "from astroplan import Observer\n",
    "from astroplan import (AltitudeConstraint,\n",
    "                       AirmassConstraint,\n",
    "                       AtNightConstraint,\n",
    "                       MoonSeparationConstraint)\n",
    "from astroplan import (is_observable,\n",
    "                       is_always_observable,\n",
    "                       months_observable)\n",
    "from astroplan import observability_table\n",
    "\n",
    "import astropy\n",
    "from astropy.time import Time\n",
    "from astropy.coordinates import EarthLocation\n",
    "from astropy.coordinates import SkyCoord\n",
    "from astropy import coordinates\n",
    "import astropy.units as u\n",
    "from astropy.io import ascii\n",
    "from astropy.table import Table, Column\n",
    "\n",
    "from timezonefinder import TimezoneFinder\n",
    "tf = TimezoneFinder()"
   ]
  },
  {
   "cell_type": "code",
   "execution_count": 9,
   "metadata": {},
   "outputs": [],
   "source": [
    "UTC = pytz.timezone('UTC')\n",
    "Dublin = pytz.timezone('Europe/Dublin')\n",
    "\n",
    "time = dt.datetime.now()\n",
    "time = time.astimezone(Dublin)\n",
    "\n",
    "observer = Observer(location = EarthLocation.from_geodetic(\n",
    "                    -6.26*u.deg,\n",
    "                    53.35*u.deg,\n",
    "                    6*u.m),\n",
    "                    name = \"Dublin\",\n",
    "                    timezone = tf.closest_timezone_at(lng = -6.26,\n",
    "                                                      lat = 53.35))"
   ]
  },
  {
   "cell_type": "code",
   "execution_count": 17,
   "metadata": {},
   "outputs": [
    {
     "name": "stdout",
     "output_type": "stream",
     "text": [
      "2019-07-13 04:20:09.626\n",
      "2019-07-13 05:20:09.626095+01:00\n"
     ]
    }
   ],
   "source": [
    "sunrise_UTC = observer.sun_rise_time(Time(time.astimezone(UTC)),\n",
    "                                 which='next')\n",
    "print(sunrise_UTC.iso)\n",
    "print(observer.astropy_time_to_datetime(sunrise_UTC))"
   ]
  },
  {
   "cell_type": "code",
   "execution_count": null,
   "metadata": {},
   "outputs": [],
   "source": []
  }
 ],
 "metadata": {
  "kernelspec": {
   "display_name": "Python 3",
   "language": "python",
   "name": "python3"
  },
  "language_info": {
   "codemirror_mode": {
    "name": "ipython",
    "version": 3
   },
   "file_extension": ".py",
   "mimetype": "text/x-python",
   "name": "python",
   "nbconvert_exporter": "python",
   "pygments_lexer": "ipython3",
   "version": "3.7.3"
  }
 },
 "nbformat": 4,
 "nbformat_minor": 2
}
