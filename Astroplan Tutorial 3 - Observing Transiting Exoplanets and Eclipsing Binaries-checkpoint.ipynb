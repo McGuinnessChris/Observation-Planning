{
 "cells": [
  {
   "cell_type": "markdown",
   "metadata": {},
   "source": [
    "# Astroplan has a class for analysis of an eclipsing system\n",
    "# At the time of completing this tutorial, this class did not account for barycentric corrections"
   ]
  },
  {
   "cell_type": "code",
   "execution_count": 19,
   "metadata": {},
   "outputs": [],
   "source": [
    "from astropy.time import Time\n",
    "import astropy.units as u\n",
    "\n",
    "# here is the Eclipsing System function from Astroplan\n",
    "from astroplan import EclipsingSystem\n",
    "\n",
    "primary_eclipse_time = Time(2452826.628514, format='jd')\n",
    "orbital_period = 3.52474859 * u.day\n",
    "eclipse_duration = 0.1277 * u.day\n",
    "\n",
    "HD209458 = EclipsingSystem(primary_eclipse_time=primary_eclipse_time , orbital_period=orbital_period \n",
    "                           , duration=eclipse_duration , name='HD 209458 b')"
   ]
  },
  {
   "cell_type": "code",
   "execution_count": 20,
   "metadata": {},
   "outputs": [
    {
     "name": "stdout",
     "output_type": "stream",
     "text": [
      "Next Primary = ['2019-06-15 00:18:54.156']\n",
      "Next Secondary = ['2019-06-13 06:01:05.017']\n"
     ]
    }
   ],
   "source": [
    "# since the orbit info is given, by assigning an observation time the \n",
    "# times of the next primary and secondary eclipses can be found\n",
    "\n",
    "observing_time = Time('2019-06-13 00:00')\n",
    "print('Next Primary =' , HD209458.next_primary_eclipse_time(observing_time))\n",
    "print('Next Secondary =' , HD209458.next_secondary_eclipse_time(observing_time))"
   ]
  },
  {
   "cell_type": "code",
   "execution_count": 22,
   "metadata": {},
   "outputs": [
    {
     "name": "stdout",
     "output_type": "stream",
     "text": [
      "Next Primary Eclipses = ['2019-06-15 00:18:54.156' '2019-06-18 12:54:32.435'\n",
      " '2019-06-22 01:30:10.713' '2019-06-25 14:05:48.991'\n",
      " '2019-06-29 02:41:27.269']\n"
     ]
    },
    {
     "data": {
      "text/plain": [
       "<Time object: scale='utc' format='jd' value=[[2458649.44927681 2458649.57697681]\n",
       " [2458652.9740254  2458653.1017254 ]\n",
       " [2458656.49877399 2458656.62647399]\n",
       " [2458660.02352258 2458660.15122258]\n",
       " [2458663.54827117 2458663.67597117]]>"
      ]
     },
     "execution_count": 22,
     "metadata": {},
     "output_type": "execute_result"
    }
   ],
   "source": [
    "# this can also be used to find a list of eclipse times\n",
    "\n",
    "print('Next Primary Eclipses =' , HD209458.next_primary_eclipse_time(observing_time , n_eclipses=5))\n",
    "\n",
    "# the beginning and end times of these eclipses (ingress and egress) can be found using a simple function\n",
    "\n",
    "HD209458.next_primary_ingress_egress_time(observing_time, n_eclipses=5)"
   ]
  },
  {
   "cell_type": "markdown",
   "metadata": {},
   "source": [
    "# Using astroquery allows information on known exoplanets be taken from three different locations. These are: exoplanet_orbit_database, nasa_exoplanet_archive, and open_exoplanet_catalogue"
   ]
  },
  {
   "cell_type": "code",
   "execution_count": 36,
   "metadata": {},
   "outputs": [
    {
     "name": "stdout",
     "output_type": "stream",
     "text": [
      "Mid-transit time reference: Knutson 2007; period reference: Knutson 2007\n",
      "Next 5 Primary Elcipses: ['2017-01-04 06:02:29.778' '2017-01-07 18:38:08.056'\n",
      " '2017-01-11 07:13:46.334' '2017-01-14 19:49:24.612'\n",
      " '2017-01-18 08:25:02.891']\n"
     ]
    }
   ],
   "source": [
    "# Query Exoplanet Orbit Database (exoplanets.org) for planet properties\n",
    "from astroquery.exoplanet_orbit_database import ExoplanetOrbitDatabase\n",
    "planet_properties = ExoplanetOrbitDatabase.query_planet('HD 209458 b')\n",
    "\n",
    "# get relevant planet properties\n",
    "from astropy.time import Time\n",
    "epoch = Time(planet_properties['TT'], format='jd')\n",
    "period = planet_properties['PER']\n",
    "transit_duration = planet_properties['T14']\n",
    "print('Mid-transit time reference: {0}; period reference: {1}'\n",
    "      .format(planet_properties['TTREF'], planet_properties['PERREF']))\n",
    "\n",
    "\n",
    "# Create an EclipsingSystem object for HD 209458\n",
    "from astroplan import EclipsingSystem\n",
    "HD209458 = EclipsingSystem(primary_eclipse_time=epoch , orbital_period=period , duration=transit_duration)\n",
    "\n",
    "# Calculate next three mid-transit times which occur after ``obs_time``\n",
    "obs_time = Time('2017-01-01 12:00')\n",
    "print('Next 5 Primary Elcipses:' , HD209458.next_primary_eclipse_time(obs_time , n_eclipses=5))"
   ]
  },
  {
   "cell_type": "code",
   "execution_count": 38,
   "metadata": {},
   "outputs": [],
   "source": [
    "from astroplan import FixedTarget, Observer, EclipsingSystem\n",
    "apo = Observer.at_site('APO', timezone='US/Mountain')\n",
    "target = FixedTarget.from_name(\"HD 209458\")\n",
    "\n",
    "primary_eclipse_time = Time(2452826.628514, format='jd')\n",
    "orbital_period = 3.52474859 * u.day\n",
    "eclipse_duration = 0.1277 * u.day\n",
    "\n",
    "HD209458 = EclipsingSystem(primary_eclipse_time=primary_eclipse_time,\n",
    "                           orbital_period=orbital_period, duration=eclipse_duration,\n",
    "                           name='HD 209458 b')"
   ]
  },
  {
   "cell_type": "code",
   "execution_count": 39,
   "metadata": {},
   "outputs": [],
   "source": [
    "n_transits = 100  # This is the roughly number of transits per year\n",
    "obs_time = Time('2017-01-01 12:00')\n",
    "midtransit_times = HD209458.next_primary_eclipse_time(obs_time, n_eclipses=n_transits"
   ]
  },
  {
   "cell_type": "code",
   "execution_count": 40,
   "metadata": {},
   "outputs": [
    {
     "data": {
      "text/plain": [
       "array([[False, False, False, False, False, False, False, False, False,\n",
       "        False, False, False, False, False, False, False, False, False,\n",
       "        False, False, False, False, False, False, False, False, False,\n",
       "        False, False, False, False, False, False, False, False, False,\n",
       "        False, False, False, False, False, False, False, False, False,\n",
       "        False, False, False, False, False, False, False, False, False,\n",
       "        False, False, False, False, False, False, False, False, False,\n",
       "        False, False, False, False, False, False, False, False, False,\n",
       "        False, False, False, False, False, False, False, False, False,\n",
       "        False, False, False, False, False, False, False, False, False,\n",
       "        False, False, False, False, False, False, False, False, False,\n",
       "        False]])"
      ]
     },
     "execution_count": 40,
     "metadata": {},
     "output_type": "execute_result"
    }
   ],
   "source": [
    "from astroplan import (PrimaryEclipseConstraint, is_event_observable ,\n",
    "                       AtNightConstraint, AltitudeConstraint, LocalTimeConstraint)\n",
    "import datetime as dt\n",
    "import astropy.units as u\n",
    "min_local_time = dt.time(19, 0)  # 19:00 local time at APO (7pm)\n",
    "max_local_time = dt.time(0, 0)  # 00:00 local time at APO (midnight)\n",
    "constraints = [AtNightConstraint.twilight_civil(),\n",
    "               AltitudeConstraint(min=30*u.deg),\n",
    "               LocalTimeConstraint(min=min_local_time, max=max_local_time)]\n",
    "\n",
    "is_event_observable(constraints, apo, target, times=midtransit_times)"
   ]
  },
  {
   "cell_type": "code",
   "execution_count": 42,
   "metadata": {},
   "outputs": [
    {
     "data": {
      "text/plain": [
       "array([[False, False, False, False, False, False, False, False, False,\n",
       "        False, False, False, False, False, False, False, False, False,\n",
       "        False, False, False, False, False, False, False, False, False,\n",
       "        False, False, False, False, False, False, False, False, False,\n",
       "        False, False, False, False, False, False, False, False, False,\n",
       "        False, False, False, False, False, False, False, False, False,\n",
       "        False, False, False, False, False, False, False, False, False,\n",
       "        False, False, False, False, False, False, False, False, False,\n",
       "        False, False, False, False, False, False, False, False, False,\n",
       "        False, False, False, False, False, False, False, False, False,\n",
       "        False, False, False, False, False, False, False, False, False,\n",
       "        False]])"
      ]
     },
     "execution_count": 42,
     "metadata": {},
     "output_type": "execute_result"
    }
   ],
   "source": [
    "# you can also set the function to check if the ingress and egress times are observable\n",
    "# if both are observable then the whole transit is observable\n",
    "\n",
    "ing_egr = HD209458.next_primary_ingress_egress_time(observing_time, n_eclipses=n_transits)\n",
    "is_event_observable(constraints, apo, target, times_ingress_egress=ing_egr)"
   ]
  },
  {
   "cell_type": "markdown",
   "metadata": {},
   "source": [
    "# Astroplan accepts more constraints, including minimum altitude (anglular height of target) and the phase of the target's orbit in thye case of a binary system"
   ]
  },
  {
   "cell_type": "code",
   "execution_count": 43,
   "metadata": {},
   "outputs": [],
   "source": [
    "from astroplan import PeriodicEvent\n",
    "import astropy.units as u\n",
    "from astropy.time import Time\n",
    "\n",
    "epoch = Time(2456001, format='jd')  # reference time of periodic event\n",
    "period = 3.25 * u.day  # period of periodic event\n",
    "duration = 2 * u.hour  # duration of event\n",
    "\n",
    "binary_system = PeriodicEvent(epoch=epoch, period=period)"
   ]
  },
  {
   "cell_type": "code",
   "execution_count": 44,
   "metadata": {},
   "outputs": [
    {
     "data": {
      "text/plain": [
       "array([ True])"
      ]
     },
     "execution_count": 44,
     "metadata": {},
     "output_type": "execute_result"
    }
   ],
   "source": [
    "from astropy.coordinates import SkyCoord\n",
    "from astroplan import FixedTarget, Observer, is_observable\n",
    "target = FixedTarget(SkyCoord(ra=42*u.deg, dec=42*u.deg), name='Target')\n",
    "greenwich = Observer.at_site(\"Greenwich\")\n",
    "start_time = Time('2017-01-01 01:00')\n",
    "end_time = Time('2017-01-01 06:00')\n",
    "\n",
    "from astroplan import PhaseConstraint, AtNightConstraint, AltitudeConstraint\n",
    "constraints = [PhaseConstraint(binary_system, min=0.4, max=0.6),\n",
    "               AtNightConstraint.twilight_astronomical(),\n",
    "               AltitudeConstraint(min=40 * u.deg)]\n",
    "is_observable(constraints, greenwich, target, time_range=[start_time, end_time])"
   ]
  },
  {
   "cell_type": "code",
   "execution_count": null,
   "metadata": {},
   "outputs": [],
   "source": []
  }
 ],
 "metadata": {
  "kernelspec": {
   "display_name": "Python 3",
   "language": "python",
   "name": "python3"
  },
  "language_info": {
   "codemirror_mode": {
    "name": "ipython",
    "version": 3
   },
   "file_extension": ".py",
   "mimetype": "text/x-python",
   "name": "python",
   "nbconvert_exporter": "python",
   "pygments_lexer": "ipython3",
   "version": "3.7.3"
  }
 },
 "nbformat": 4,
 "nbformat_minor": 2
}
