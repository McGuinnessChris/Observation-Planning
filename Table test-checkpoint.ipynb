{
 "cells": [
  {
   "cell_type": "code",
   "execution_count": 1,
   "metadata": {},
   "outputs": [],
   "source": [
    "from astropy.table import Table, Column\n",
    "import numpy as np"
   ]
  },
  {
   "cell_type": "code",
   "execution_count": null,
   "metadata": {},
   "outputs": [],
   "source": [
    "t = Table()\n",
    "t['a'] = [1, 4]\n",
    "t['b'] = Column([2.0, 5.0], unit='cm', description='Velocity')\n",
    "t['c'] = ['x', 'y']\n",
    "\n",
    "t = Table(names=('a', 'b', 'c'), dtype=('f4', 'i4', 'S2'))\n",
    "t.add_row((1, 2.0, 'x'))\n",
    "t.add_row((4, 5.0, 'y'))\n",
    "\n",
    "t = Table(dtype=[('a', 'f4'), ('b', 'i4'), ('c', 'S2')])"
   ]
  },
  {
   "cell_type": "code",
   "execution_count": null,
   "metadata": {},
   "outputs": [],
   "source": [
    "print(t)"
   ]
  },
  {
   "cell_type": "code",
   "execution_count": 2,
   "metadata": {},
   "outputs": [
    {
     "data": {
      "text/html": [
       "<i>Table length=3</i>\n",
       "<table id=\"table139799636013240\" class=\"table-striped table-bordered table-condensed\">\n",
       "<thead><tr><th>a</th><th>b</th><th>c</th></tr></thead>\n",
       "<thead><tr><th>int64</th><th>str5</th><th>str21</th></tr></thead>\n",
       "<tr><td>12</td><td>hello</td><td>3</td></tr>\n",
       "<tr><td>24</td><td>there</td><td>six</td></tr>\n",
       "<tr><td>36</td><td>yeet</td><td>9</td></tr>\n",
       "</table>"
      ],
      "text/plain": [
       "<Table length=3>\n",
       "  a     b     c  \n",
       "int64  str5 str21\n",
       "----- ----- -----\n",
       "   12 hello     3\n",
       "   24 there   six\n",
       "   36  yeet     9"
      ]
     },
     "execution_count": 2,
     "metadata": {},
     "output_type": "execute_result"
    }
   ],
   "source": [
    "a = [12 , 24 , 36]\n",
    "b = ['hello' , 'there' , 'yeet']\n",
    "c = [3 , 'six' , 9]\n",
    "\n",
    "t = Table([a, b, c], names=('a', 'b', 'c'))\n",
    "t"
   ]
  },
  {
   "cell_type": "code",
   "execution_count": 3,
   "metadata": {},
   "outputs": [
    {
     "name": "stdout",
     "output_type": "stream",
     "text": [
      " a   b   c \n",
      "--- --- ---\n",
      "  1 2.0   x\n",
      "  4 5.0   y\n",
      "  5 8.2   z\n"
     ]
    }
   ],
   "source": [
    "data_rows = [(1, 2.0, 'x'),\n",
    "             (4, 5.0, 'y'),\n",
    "             (5, 8.2, 'z')]\n",
    "t = Table(rows=data_rows, names=('a', 'b', 'c'))\n",
    "print(t)"
   ]
  },
  {
   "cell_type": "code",
   "execution_count": null,
   "metadata": {},
   "outputs": [],
   "source": []
  }
 ],
 "metadata": {
  "kernelspec": {
   "display_name": "Python 3",
   "language": "python",
   "name": "python3"
  },
  "language_info": {
   "codemirror_mode": {
    "name": "ipython",
    "version": 3
   },
   "file_extension": ".py",
   "mimetype": "text/x-python",
   "name": "python",
   "nbconvert_exporter": "python",
   "pygments_lexer": "ipython3",
   "version": "3.7.3"
  }
 },
 "nbformat": 4,
 "nbformat_minor": 2
}
